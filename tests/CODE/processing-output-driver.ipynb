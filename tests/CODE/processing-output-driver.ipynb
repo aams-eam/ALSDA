{
 "cells": [
  {
   "cell_type": "code",
   "execution_count": 1,
   "metadata": {
    "pycharm": {
     "name": "#%%\n"
    }
   },
   "outputs": [],
   "source": [
    "# Replicates Java's hashCode function perfectly\n",
    "def intify(i):\n",
    "  # Python's int data type by default stores an unbounded amount of data, so we trim it to a signed 32-bit integer, which is used in Java's hashCode function\n",
    "  return (i % 4294967296) - 2147483648\n",
    "def hashCode(s):\n",
    "  counter = 0\n",
    "  for i in range(len(s)):\n",
    "    counter += intify(ord(s[-i-1]) * (pow(31,i)))\n",
    "    # The iterative algorithm that computes the hash in Java\n",
    "  return intify(counter)"
   ]
  },
  {
   "cell_type": "code",
   "execution_count": 2,
   "metadata": {
    "pycharm": {
     "name": "#%%\n"
    }
   },
   "outputs": [
    {
     "name": "stdout",
     "output_type": "stream",
     "text": [
      "(1250, 2)\n"
     ]
    },
    {
     "data": {
      "text/html": [
       "<div>\n",
       "<style scoped>\n",
       "    .dataframe tbody tr th:only-of-type {\n",
       "        vertical-align: middle;\n",
       "    }\n",
       "\n",
       "    .dataframe tbody tr th {\n",
       "        vertical-align: top;\n",
       "    }\n",
       "\n",
       "    .dataframe thead th {\n",
       "        text-align: right;\n",
       "    }\n",
       "</style>\n",
       "<table border=\"1\" class=\"dataframe\">\n",
       "  <thead>\n",
       "    <tr style=\"text-align: right;\">\n",
       "      <th></th>\n",
       "      <th>hash</th>\n",
       "      <th>nanoTimestamp-Start</th>\n",
       "    </tr>\n",
       "  </thead>\n",
       "  <tbody>\n",
       "    <tr>\n",
       "      <th>0</th>\n",
       "      <td>1499819829</td>\n",
       "      <td>989814904544581</td>\n",
       "    </tr>\n",
       "    <tr>\n",
       "      <th>1</th>\n",
       "      <td>-335479692</td>\n",
       "      <td>989815911313758</td>\n",
       "    </tr>\n",
       "    <tr>\n",
       "      <th>2</th>\n",
       "      <td>2004416604</td>\n",
       "      <td>989816918302764</td>\n",
       "    </tr>\n",
       "    <tr>\n",
       "      <th>3</th>\n",
       "      <td>1672878773</td>\n",
       "      <td>989817924437373</td>\n",
       "    </tr>\n",
       "    <tr>\n",
       "      <th>4</th>\n",
       "      <td>1999383356</td>\n",
       "      <td>989818931213247</td>\n",
       "    </tr>\n",
       "  </tbody>\n",
       "</table>\n",
       "</div>"
      ],
      "text/plain": [
       "         hash nanoTimestamp-Start\n",
       "0  1499819829     989814904544581\n",
       "1  -335479692     989815911313758\n",
       "2  2004416604     989816918302764\n",
       "3  1672878773     989817924437373\n",
       "4  1999383356     989818931213247"
      ]
     },
     "execution_count": 2,
     "metadata": {},
     "output_type": "execute_result"
    }
   ],
   "source": [
    "import pandas as pd\n",
    "import json\n",
    "\n",
    "\n",
    "### READ AND PROCESS DRIVER INPUT END FILE\n",
    "with open(\"../controlled_DATA/latency-raw/consumerCDS-start.csv\") as file:\n",
    "    lines = file.read().splitlines()\n",
    "\n",
    "\n",
    "id_start = []\n",
    "# process it line to make first field the hash and second field the timestamp\n",
    "for line in lines:\n",
    "    templ = []\n",
    "    sepl = line.split(\",\")\n",
    "    timestamp = sepl[-1]\n",
    "    del sepl[-1]\n",
    "    flow_data_record = json.loads(\",\".join(sepl))[\"netflow-v9:netflow\"][\"export-packet\"][\"flow-data-record\"][0]\n",
    "    fields = [\n",
    "        str(flow_data_record[\"ipv4\"][\"src-address\"]),\n",
    "        str(flow_data_record[\"ipv4\"][\"dst-address\"]),\n",
    "        str(flow_data_record[\"src-port\"]),\n",
    "        str(flow_data_record[\"dst-port\"]),\n",
    "        str(flow_data_record[\"first-switched\"]),\n",
    "        str(flow_data_record[\"last-switched\"])\n",
    "    ]\n",
    "    tempstr = \"-\".join(fields)\n",
    "    templ.append(str(hashCode(tempstr)))\n",
    "    templ.append(timestamp)\n",
    "    id_start.append(templ)\n",
    "\n",
    "df_start = pd.DataFrame(id_start, columns=[\"hash\", \"nanoTimestamp-Start\"])\n",
    "print(df_start.shape)\n",
    "df_start.head()"
   ]
  },
  {
   "cell_type": "code",
   "execution_count": 3,
   "metadata": {
    "pycharm": {
     "name": "#%%\n"
    }
   },
   "outputs": [
    {
     "name": "stdout",
     "output_type": "stream",
     "text": [
      "(1250, 2)\n"
     ]
    },
    {
     "data": {
      "text/html": [
       "<div>\n",
       "<style scoped>\n",
       "    .dataframe tbody tr th:only-of-type {\n",
       "        vertical-align: middle;\n",
       "    }\n",
       "\n",
       "    .dataframe tbody tr th {\n",
       "        vertical-align: top;\n",
       "    }\n",
       "\n",
       "    .dataframe thead th {\n",
       "        text-align: right;\n",
       "    }\n",
       "</style>\n",
       "<table border=\"1\" class=\"dataframe\">\n",
       "  <thead>\n",
       "    <tr style=\"text-align: right;\">\n",
       "      <th></th>\n",
       "      <th>hash</th>\n",
       "      <th>nanoTimestamp-End</th>\n",
       "    </tr>\n",
       "  </thead>\n",
       "  <tbody>\n",
       "    <tr>\n",
       "      <th>0</th>\n",
       "      <td>1499819829</td>\n",
       "      <td>989815014406968</td>\n",
       "    </tr>\n",
       "    <tr>\n",
       "      <th>1</th>\n",
       "      <td>-335479692</td>\n",
       "      <td>989816009863905</td>\n",
       "    </tr>\n",
       "    <tr>\n",
       "      <th>2</th>\n",
       "      <td>2004416604</td>\n",
       "      <td>989816941992649</td>\n",
       "    </tr>\n",
       "    <tr>\n",
       "      <th>3</th>\n",
       "      <td>1672878773</td>\n",
       "      <td>989818002618371</td>\n",
       "    </tr>\n",
       "    <tr>\n",
       "      <th>4</th>\n",
       "      <td>1999383356</td>\n",
       "      <td>989819005770104</td>\n",
       "    </tr>\n",
       "  </tbody>\n",
       "</table>\n",
       "</div>"
      ],
      "text/plain": [
       "         hash nanoTimestamp-End\n",
       "0  1499819829   989815014406968\n",
       "1  -335479692   989816009863905\n",
       "2  2004416604   989816941992649\n",
       "3  1672878773   989818002618371\n",
       "4  1999383356   989819005770104"
      ]
     },
     "execution_count": 3,
     "metadata": {},
     "output_type": "execute_result"
    }
   ],
   "source": [
    "### READ AND PROCESS DRIVER INPUT START FILE\n",
    "with open(\"../controlled_DATA/latency-raw/consumerCDS-end.csv\") as file:\n",
    "    lines = file.read().splitlines()\n",
    "\n",
    "\n",
    "id_end = []\n",
    "# process it line to make first field the hash and second field the timestamp\n",
    "for line in lines:\n",
    "    templ = []\n",
    "    sepl = line.split(\",\")\n",
    "    timestamp = sepl[-1]\n",
    "    del sepl[0:8]\n",
    "    del sepl[-1]\n",
    "    tempstr = \"-\".join(sepl)\n",
    "    templ.append(str(hashCode(tempstr)))\n",
    "    templ.append(timestamp)\n",
    "    id_end.append(templ)\n",
    "\n",
    "df_end = pd.DataFrame(id_end, columns=[\"hash\", \"nanoTimestamp-End\"])\n",
    "print(df_end.shape)\n",
    "df_end.head()"
   ]
  },
  {
   "cell_type": "code",
   "execution_count": 4,
   "metadata": {
    "pycharm": {
     "name": "#%%\n"
    }
   },
   "outputs": [
    {
     "data": {
      "text/html": [
       "<div>\n",
       "<style scoped>\n",
       "    .dataframe tbody tr th:only-of-type {\n",
       "        vertical-align: middle;\n",
       "    }\n",
       "\n",
       "    .dataframe tbody tr th {\n",
       "        vertical-align: top;\n",
       "    }\n",
       "\n",
       "    .dataframe thead th {\n",
       "        text-align: right;\n",
       "    }\n",
       "</style>\n",
       "<table border=\"1\" class=\"dataframe\">\n",
       "  <thead>\n",
       "    <tr style=\"text-align: right;\">\n",
       "      <th></th>\n",
       "      <th>hash</th>\n",
       "      <th>nanoTimestamp-Start</th>\n",
       "      <th>nanoTimestamp-End</th>\n",
       "    </tr>\n",
       "  </thead>\n",
       "  <tbody>\n",
       "    <tr>\n",
       "      <th>0</th>\n",
       "      <td>1499819829</td>\n",
       "      <td>989814904544581</td>\n",
       "      <td>989815014406968</td>\n",
       "    </tr>\n",
       "    <tr>\n",
       "      <th>1</th>\n",
       "      <td>-335479692</td>\n",
       "      <td>989815911313758</td>\n",
       "      <td>989816009863905</td>\n",
       "    </tr>\n",
       "    <tr>\n",
       "      <th>2</th>\n",
       "      <td>2004416604</td>\n",
       "      <td>989816918302764</td>\n",
       "      <td>989816941992649</td>\n",
       "    </tr>\n",
       "    <tr>\n",
       "      <th>3</th>\n",
       "      <td>1672878773</td>\n",
       "      <td>989817924437373</td>\n",
       "      <td>989818002618371</td>\n",
       "    </tr>\n",
       "    <tr>\n",
       "      <th>4</th>\n",
       "      <td>1999383356</td>\n",
       "      <td>989818931213247</td>\n",
       "      <td>989819005770104</td>\n",
       "    </tr>\n",
       "  </tbody>\n",
       "</table>\n",
       "</div>"
      ],
      "text/plain": [
       "         hash nanoTimestamp-Start nanoTimestamp-End\n",
       "0  1499819829     989814904544581   989815014406968\n",
       "1  -335479692     989815911313758   989816009863905\n",
       "2  2004416604     989816918302764   989816941992649\n",
       "3  1672878773     989817924437373   989818002618371\n",
       "4  1999383356     989818931213247   989819005770104"
      ]
     },
     "execution_count": 4,
     "metadata": {},
     "output_type": "execute_result"
    }
   ],
   "source": [
    "### MERGE DATAFRAMES id_start and id_end\n",
    "df = df_start.merge(df_end, left_on=['hash'], right_on=['hash'], how='outer')\n",
    "if(not df.isnull().sum().sum()==0):\n",
    "    print(\"some hash do not coincide\")\n",
    "\n",
    "df.head()"
   ]
  },
  {
   "cell_type": "code",
   "execution_count": 5,
   "metadata": {
    "pycharm": {
     "name": "#%%\n"
    }
   },
   "outputs": [],
   "source": [
    "df.to_csv(\"../controlled_DATA/latency-parsed/consumerCDS-latency.csv\", index=False)"
   ]
  },
  {
   "cell_type": "code",
   "execution_count": null,
   "metadata": {
    "pycharm": {
     "name": "#%%\n"
    }
   },
   "outputs": [],
   "source": []
  }
 ],
 "metadata": {
  "kernelspec": {
   "display_name": "Python 3.10.5 64-bit (windows store)",
   "language": "python",
   "name": "python3"
  },
  "language_info": {
   "codemirror_mode": {
    "name": "ipython",
    "version": 3
   },
   "file_extension": ".py",
   "mimetype": "text/x-python",
   "name": "python",
   "nbconvert_exporter": "python",
   "pygments_lexer": "ipython3",
   "version": "3.10.5"
  },
  "orig_nbformat": 4,
  "vscode": {
   "interpreter": {
    "hash": "3dc8756dacbbaa0e55cc5ee6f7d758d6debfc7d5dfe2e1be00e102300319c58d"
   }
  }
 },
 "nbformat": 4,
 "nbformat_minor": 2
}