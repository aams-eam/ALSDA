{
 "cells": [
  {
   "cell_type": "code",
   "execution_count": 21,
   "metadata": {},
   "outputs": [
    {
     "name": "stdout",
     "output_type": "stream",
     "text": [
      "(1250, 2)\n",
      "         hash nanoTimestamp-Start\n",
      "0  1499819829     725566511854686\n",
      "1  1812003956     725566816724387\n",
      "2  2004416604     725566912127809\n",
      "3  -474604875     725567005112980\n",
      "4  -148100292     725567015874776\n",
      "\n",
      "(1250, 2)\n",
      "         hash nanoTimestamp-End\n",
      "0  1499819829   725579045793915\n",
      "1  1812003956   725589304953595\n",
      "2  2004416604   725589406476016\n",
      "3  -474604875   725589511824804\n",
      "4  -148100292   725589605616736\n"
     ]
    }
   ],
   "source": [
    "import pandas as pd\n",
    "\n",
    "filename = \"netflowAgg\"\n",
    "\n",
    "### READ AND PROCESS DRIVER INPUT END FILE\n",
    "with open(\"../DATA/latency-raw/\"+filename+\"-start.csv\") as file:\n",
    "    lines_start = file.read().splitlines()\n",
    "\n",
    "### READ AND PROCESS DRIVER INPUT START FILE\n",
    "with open(\"../DATA/latency-raw/\"+filename+\"-end.csv\") as file:\n",
    "    lines_end = file.read().splitlines()\n",
    "\n",
    "lines_start = [line.split(\",\") for line in lines_start]\n",
    "lines_end = [line.split(\",\") for line in lines_end]\n",
    "\n",
    "df_start = pd.DataFrame(lines_start, columns=[\"hash\", \"nanoTimestamp-Start\"])\n",
    "df_end = pd.DataFrame(lines_end, columns=[\"hash\", \"nanoTimestamp-End\"])\n",
    "print(df_start.shape)\n",
    "print(df_start.head())\n",
    "print()\n",
    "print(df_end.shape)\n",
    "print(df_end.head())"
   ]
  },
  {
   "cell_type": "code",
   "execution_count": 22,
   "metadata": {},
   "outputs": [
    {
     "data": {
      "text/html": [
       "<div>\n",
       "<style scoped>\n",
       "    .dataframe tbody tr th:only-of-type {\n",
       "        vertical-align: middle;\n",
       "    }\n",
       "\n",
       "    .dataframe tbody tr th {\n",
       "        vertical-align: top;\n",
       "    }\n",
       "\n",
       "    .dataframe thead th {\n",
       "        text-align: right;\n",
       "    }\n",
       "</style>\n",
       "<table border=\"1\" class=\"dataframe\">\n",
       "  <thead>\n",
       "    <tr style=\"text-align: right;\">\n",
       "      <th></th>\n",
       "      <th>hash</th>\n",
       "      <th>nanoTimestamp-Start</th>\n",
       "      <th>nanoTimestamp-End</th>\n",
       "    </tr>\n",
       "  </thead>\n",
       "  <tbody>\n",
       "    <tr>\n",
       "      <th>0</th>\n",
       "      <td>1499819829</td>\n",
       "      <td>725566511854686</td>\n",
       "      <td>725579045793915</td>\n",
       "    </tr>\n",
       "    <tr>\n",
       "      <th>1</th>\n",
       "      <td>1812003956</td>\n",
       "      <td>725566816724387</td>\n",
       "      <td>725589304953595</td>\n",
       "    </tr>\n",
       "    <tr>\n",
       "      <th>2</th>\n",
       "      <td>2004416604</td>\n",
       "      <td>725566912127809</td>\n",
       "      <td>725589406476016</td>\n",
       "    </tr>\n",
       "    <tr>\n",
       "      <th>3</th>\n",
       "      <td>-474604875</td>\n",
       "      <td>725567005112980</td>\n",
       "      <td>725589511824804</td>\n",
       "    </tr>\n",
       "    <tr>\n",
       "      <th>4</th>\n",
       "      <td>-148100292</td>\n",
       "      <td>725567015874776</td>\n",
       "      <td>725589605616736</td>\n",
       "    </tr>\n",
       "  </tbody>\n",
       "</table>\n",
       "</div>"
      ],
      "text/plain": [
       "         hash nanoTimestamp-Start nanoTimestamp-End\n",
       "0  1499819829     725566511854686   725579045793915\n",
       "1  1812003956     725566816724387   725589304953595\n",
       "2  2004416604     725566912127809   725589406476016\n",
       "3  -474604875     725567005112980   725589511824804\n",
       "4  -148100292     725567015874776   725589605616736"
      ]
     },
     "execution_count": 22,
     "metadata": {},
     "output_type": "execute_result"
    }
   ],
   "source": [
    "### MERGE DATAFRAMES id_start and id_end\n",
    "df = df_start.merge(df_end, left_on=['hash'], right_on=['hash'], how='outer')\n",
    "if(not df.isnull().sum().sum()==0):\n",
    "    print(\"some hash do not coincide\")\n",
    "\n",
    "df.head()"
   ]
  },
  {
   "cell_type": "code",
   "execution_count": 23,
   "metadata": {},
   "outputs": [],
   "source": [
    "df.to_csv(\"../DATA/latency-parsed/\"+filename+\"-latency.csv\", index=False)"
   ]
  },
  {
   "cell_type": "code",
   "execution_count": null,
   "metadata": {},
   "outputs": [],
   "source": []
  }
 ],
 "metadata": {
  "kernelspec": {
   "display_name": "Python 3.10.5 64-bit (windows store)",
   "language": "python",
   "name": "python3"
  },
  "language_info": {
   "codemirror_mode": {
    "name": "ipython",
    "version": 3
   },
   "file_extension": ".py",
   "mimetype": "text/x-python",
   "name": "python",
   "nbconvert_exporter": "python",
   "pygments_lexer": "ipython3",
   "version": "3.10.5"
  },
  "orig_nbformat": 4,
  "vscode": {
   "interpreter": {
    "hash": "3dc8756dacbbaa0e55cc5ee6f7d758d6debfc7d5dfe2e1be00e102300319c58d"
   }
  }
 },
 "nbformat": 4,
 "nbformat_minor": 2
}
