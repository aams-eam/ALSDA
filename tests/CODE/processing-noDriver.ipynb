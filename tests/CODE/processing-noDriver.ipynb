{
 "cells": [
  {
   "cell_type": "code",
   "execution_count": 20,
   "metadata": {
    "pycharm": {
     "name": "#%%\n"
    }
   },
   "outputs": [
    {
     "name": "stdout",
     "output_type": "stream",
     "text": [
      "0.016 1\n"
     ]
    },
    {
     "data": {
      "text/plain": "         hash         nano-start           nano-end  processing_time  \\\n0 -1903027235  38803975920848939  38803976211926280      291077344.0   \n1   222079332  38803976009917730  38803976303460606      293542880.0   \n2 -1098426718  38803976010560312  38803976303826516      293266200.0   \n3  2032994932  38803976015178314  38803976303997127      288818816.0   \n4 -1512773053  38803976015902476  38803976304162143      288259664.0   \n\n   processing_time_ms  \n0          291.077344  \n1          293.542880  \n2          293.266200  \n3          288.818816  \n4          288.259664  ",
      "text/html": "<div>\n<style scoped>\n    .dataframe tbody tr th:only-of-type {\n        vertical-align: middle;\n    }\n\n    .dataframe tbody tr th {\n        vertical-align: top;\n    }\n\n    .dataframe thead th {\n        text-align: right;\n    }\n</style>\n<table border=\"1\" class=\"dataframe\">\n  <thead>\n    <tr style=\"text-align: right;\">\n      <th></th>\n      <th>hash</th>\n      <th>nano-start</th>\n      <th>nano-end</th>\n      <th>processing_time</th>\n      <th>processing_time_ms</th>\n    </tr>\n  </thead>\n  <tbody>\n    <tr>\n      <th>0</th>\n      <td>-1903027235</td>\n      <td>38803975920848939</td>\n      <td>38803976211926280</td>\n      <td>291077344.0</td>\n      <td>291.077344</td>\n    </tr>\n    <tr>\n      <th>1</th>\n      <td>222079332</td>\n      <td>38803976009917730</td>\n      <td>38803976303460606</td>\n      <td>293542880.0</td>\n      <td>293.542880</td>\n    </tr>\n    <tr>\n      <th>2</th>\n      <td>-1098426718</td>\n      <td>38803976010560312</td>\n      <td>38803976303826516</td>\n      <td>293266200.0</td>\n      <td>293.266200</td>\n    </tr>\n    <tr>\n      <th>3</th>\n      <td>2032994932</td>\n      <td>38803976015178314</td>\n      <td>38803976303997127</td>\n      <td>288818816.0</td>\n      <td>288.818816</td>\n    </tr>\n    <tr>\n      <th>4</th>\n      <td>-1512773053</td>\n      <td>38803976015902476</td>\n      <td>38803976304162143</td>\n      <td>288259664.0</td>\n      <td>288.259664</td>\n    </tr>\n  </tbody>\n</table>\n</div>"
     },
     "execution_count": 20,
     "metadata": {},
     "output_type": "execute_result"
    }
   ],
   "source": [
    "import pandas as pd\n",
    "\n",
    "iterations=[1, 2, 3]\n",
    "delays=[0.016, 0.025, 0.05, 0.1, 0.2]\n",
    "\n",
    "\n",
    "# Get the start and end files and create another file with the latency in milliseconds\n",
    "\n",
    "for delay in delays:\n",
    "\n",
    "    for i in iterations:\n",
    "\n",
    "        df_start = None\n",
    "        df_end = None\n",
    "        df = None\n",
    "\n",
    "        df_start = pd.read_csv(\"../DATA/results_latency_nodriver/batch\"+str(delay)+\"_\"+str(i)+\"-start.txt\", header=None, names=[\"hash\", \"nano-start\"])\n",
    "\n",
    "        df_end = pd.read_csv(\"../DATA/results_latency_nodriver/batch\"+str(delay)+\"_\"+str(i)+\"-end.txt\", header=None, names=[\"hash\", \"nano-end\"])\n",
    "\n",
    "\n",
    "        ### MERGE DATAFRAMES id_start and id_end\n",
    "        df = df_start.merge(df_end, left_on=['hash'], right_on=['hash'], how='outer')\n",
    "        if not df.isnull().sum().sum() == 0:\n",
    "            print(\"some hash do not coincide\")\n",
    "        df.dropna(inplace=True)\n",
    "\n",
    "        df[\"processing_time\"] = df[\"nano-end\"].astype(float) - df[\"nano-start\"].astype(float)\n",
    "        df[\"processing_time_ms\"] = df[\"processing_time\"]/1000000\n",
    "\n",
    "        df.to_csv(\"../DATA/results_latency_nodriver/processed/latency\"+str(delay)+\"_\"+str(i)+\".csv\", index=False)\n",
    "\n",
    "df.head()"
   ]
  },
  {
   "cell_type": "code",
   "execution_count": 61,
   "outputs": [],
   "source": [
    "delays=[0.016, 0.025, 0.05, 0.1, 0.2]\n",
    "\n",
    "\n",
    "for delay in delays:\n",
    "\n",
    "    df1 = pd.read_csv(\"../DATA/results_latency_nodriver/processed/latency\"+str(delay)+\"_\"+str(1)+\".csv\")\n",
    "    df2 = pd.read_csv(\"../DATA/results_latency_nodriver/processed/latency\"+str(delay)+\"_\"+str(2)+\".csv\")\n",
    "    df3 = pd.read_csv(\"../DATA/results_latency_nodriver/processed/latency\"+str(delay)+\"_\"+str(3)+\".csv\")\n",
    "\n",
    "    df = df1.merge(df2[[\"hash\", \"processing_time_ms\"]], left_on=['hash'], right_on=['hash'], how='outer')\n",
    "    df = df.merge(df3[[\"hash\", \"processing_time_ms\"]], left_on=['hash'], right_on=['hash'], how='outer')\n",
    "    if not df.isnull().sum().sum() == 0:\n",
    "        print(\"some hash do not coincide\")\n",
    "    df.dropna(inplace=True)\n",
    "\n",
    "    df[\"processing_time_ms\"] = (df[\"processing_time_ms\"]+df[\"processing_time_ms_x\"]+df[\"processing_time_ms_y\"])/3\n",
    "    df.drop(['nano-start', 'nano-end', 'processing_time', 'processing_time_ms_x', 'processing_time_ms_y'], axis='columns', inplace=True)\n",
    "\n",
    "    if len(df1) != 1250 or len(df2) != 1250 or len(df3) != 1250:\n",
    "        print(\"Something may be wrong with this batches\")\n",
    "\n",
    "    df.to_csv(\"../DATA/results_latency_nodriver/processed/processed_averaged/latency\"+str(delay)+\".csv\", index=False)"
   ],
   "metadata": {
    "collapsed": false,
    "pycharm": {
     "name": "#%%\n"
    }
   }
  },
  {
   "cell_type": "code",
   "execution_count": null,
   "outputs": [],
   "source": [],
   "metadata": {
    "collapsed": false,
    "pycharm": {
     "name": "#%%\n"
    }
   }
  }
 ],
 "metadata": {
  "kernelspec": {
   "display_name": "Python 3.10.5 64-bit (windows store)",
   "language": "python",
   "name": "python3"
  },
  "language_info": {
   "codemirror_mode": {
    "name": "ipython",
    "version": 3
   },
   "file_extension": ".py",
   "mimetype": "text/x-python",
   "name": "python",
   "nbconvert_exporter": "python",
   "pygments_lexer": "ipython3",
   "version": "3.10.5"
  },
  "orig_nbformat": 4,
  "vscode": {
   "interpreter": {
    "hash": "3dc8756dacbbaa0e55cc5ee6f7d758d6debfc7d5dfe2e1be00e102300319c58d"
   }
  }
 },
 "nbformat": 4,
 "nbformat_minor": 2
}